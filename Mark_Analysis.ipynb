{
 "cells": [
  {
   "cell_type": "code",
   "execution_count": 87,
   "metadata": {},
   "outputs": [],
   "source": [
    "import pandas as pd\n",
    "import numpy as np\n",
    "import os"
   ]
  },
  {
   "cell_type": "code",
   "execution_count": 88,
   "metadata": {},
   "outputs": [],
   "source": [
    "%matplotlib inline\n",
    "import matplotlib.pyplot as plt\n",
    "import seaborn as sns"
   ]
  },
  {
   "cell_type": "code",
   "execution_count": 89,
   "metadata": {},
   "outputs": [],
   "source": [
    "movies = pd.read_csv('Join_TMDB_Filtered.csv')"
   ]
  },
  {
   "cell_type": "code",
   "execution_count": 90,
   "metadata": {},
   "outputs": [
    {
     "data": {
      "text/plain": [
       "Index(['movieId', 'title', 'genres', 'release_year', 'Adventure', 'Animation',\n",
       "       'Children', 'Comedy', 'Fantasy', 'Romance', 'Drama', 'Action', 'Crime',\n",
       "       'Thriller', 'Horror', 'Mystery', 'Sci-Fi', 'IMAX', 'Documentary', 'War',\n",
       "       'Musical', 'Western', 'Film-Noir', '(no genres listed)',\n",
       "       'movielens_number_reviews', 'movielens_avg_rating', 'imdbId', 'tmdbId',\n",
       "       'tmdb_info', 'tmdb_cast'],\n",
       "      dtype='object')"
      ]
     },
     "execution_count": 90,
     "metadata": {},
     "output_type": "execute_result"
    }
   ],
   "source": [
    "movies.columns"
   ]
  },
  {
   "cell_type": "code",
   "execution_count": 91,
   "metadata": {},
   "outputs": [
    {
     "data": {
      "text/html": [
       "<div>\n",
       "<style scoped>\n",
       "    .dataframe tbody tr th:only-of-type {\n",
       "        vertical-align: middle;\n",
       "    }\n",
       "\n",
       "    .dataframe tbody tr th {\n",
       "        vertical-align: top;\n",
       "    }\n",
       "\n",
       "    .dataframe thead th {\n",
       "        text-align: right;\n",
       "    }\n",
       "</style>\n",
       "<table border=\"1\" class=\"dataframe\">\n",
       "  <thead>\n",
       "    <tr style=\"text-align: right;\">\n",
       "      <th></th>\n",
       "      <th>movieId</th>\n",
       "      <th>title</th>\n",
       "      <th>genres</th>\n",
       "      <th>release_year</th>\n",
       "      <th>Adventure</th>\n",
       "      <th>Animation</th>\n",
       "      <th>Children</th>\n",
       "      <th>Comedy</th>\n",
       "      <th>Fantasy</th>\n",
       "      <th>Romance</th>\n",
       "      <th>...</th>\n",
       "      <th>Musical</th>\n",
       "      <th>Western</th>\n",
       "      <th>Film-Noir</th>\n",
       "      <th>(no genres listed)</th>\n",
       "      <th>movielens_number_reviews</th>\n",
       "      <th>movielens_avg_rating</th>\n",
       "      <th>imdbId</th>\n",
       "      <th>tmdbId</th>\n",
       "      <th>tmdb_info</th>\n",
       "      <th>tmdb_cast</th>\n",
       "    </tr>\n",
       "  </thead>\n",
       "  <tbody>\n",
       "    <tr>\n",
       "      <th>0</th>\n",
       "      <td>53207</td>\n",
       "      <td>88 Minutes (2008)</td>\n",
       "      <td>['Crime', 'Drama', 'Mystery', 'Thriller']</td>\n",
       "      <td>2008</td>\n",
       "      <td>0</td>\n",
       "      <td>0</td>\n",
       "      <td>0</td>\n",
       "      <td>0</td>\n",
       "      <td>0</td>\n",
       "      <td>0</td>\n",
       "      <td>...</td>\n",
       "      <td>0</td>\n",
       "      <td>0</td>\n",
       "      <td>0</td>\n",
       "      <td>0</td>\n",
       "      <td>628</td>\n",
       "      <td>2.936</td>\n",
       "      <td>411061</td>\n",
       "      <td>3489</td>\n",
       "      <td>{'adult': False, 'backdrop_path': '/gLU169RfA0...</td>\n",
       "      <td>[{'cast_id': 1, 'character': 'Jack Gramm', 'cr...</td>\n",
       "    </tr>\n",
       "    <tr>\n",
       "      <th>1</th>\n",
       "      <td>55603</td>\n",
       "      <td>My Mom's New Boyfriend (2008)</td>\n",
       "      <td>['Action', 'Comedy', 'Romance', 'Thriller']</td>\n",
       "      <td>2008</td>\n",
       "      <td>0</td>\n",
       "      <td>0</td>\n",
       "      <td>0</td>\n",
       "      <td>1</td>\n",
       "      <td>0</td>\n",
       "      <td>1</td>\n",
       "      <td>...</td>\n",
       "      <td>0</td>\n",
       "      <td>0</td>\n",
       "      <td>0</td>\n",
       "      <td>0</td>\n",
       "      <td>59</td>\n",
       "      <td>2.924</td>\n",
       "      <td>780534</td>\n",
       "      <td>9262</td>\n",
       "      <td>{'adult': False, 'backdrop_path': '/oCbczxmpLM...</td>\n",
       "      <td>[{'cast_id': 11, 'character': 'Marthy Durand',...</td>\n",
       "    </tr>\n",
       "    <tr>\n",
       "      <th>2</th>\n",
       "      <td>55830</td>\n",
       "      <td>Be Kind Rewind (2008)</td>\n",
       "      <td>['Comedy']</td>\n",
       "      <td>2008</td>\n",
       "      <td>0</td>\n",
       "      <td>0</td>\n",
       "      <td>0</td>\n",
       "      <td>1</td>\n",
       "      <td>0</td>\n",
       "      <td>0</td>\n",
       "      <td>...</td>\n",
       "      <td>0</td>\n",
       "      <td>0</td>\n",
       "      <td>0</td>\n",
       "      <td>0</td>\n",
       "      <td>1511</td>\n",
       "      <td>3.231</td>\n",
       "      <td>799934</td>\n",
       "      <td>4953</td>\n",
       "      <td>{'adult': False, 'backdrop_path': '/4jydtNkMFA...</td>\n",
       "      <td>[{'cast_id': 12, 'character': 'Jerry', 'credit...</td>\n",
       "    </tr>\n",
       "    <tr>\n",
       "      <th>3</th>\n",
       "      <td>56949</td>\n",
       "      <td>27 Dresses (2008)</td>\n",
       "      <td>['Comedy', 'Romance']</td>\n",
       "      <td>2008</td>\n",
       "      <td>0</td>\n",
       "      <td>0</td>\n",
       "      <td>0</td>\n",
       "      <td>1</td>\n",
       "      <td>0</td>\n",
       "      <td>1</td>\n",
       "      <td>...</td>\n",
       "      <td>0</td>\n",
       "      <td>0</td>\n",
       "      <td>0</td>\n",
       "      <td>0</td>\n",
       "      <td>2108</td>\n",
       "      <td>3.170</td>\n",
       "      <td>988595</td>\n",
       "      <td>6557</td>\n",
       "      <td>{'adult': False, 'backdrop_path': '/jwV0wmhEqH...</td>\n",
       "      <td>[{'cast_id': 14, 'character': 'Jane Nichols', ...</td>\n",
       "    </tr>\n",
       "    <tr>\n",
       "      <th>4</th>\n",
       "      <td>57326</td>\n",
       "      <td>In the Name of the King: A Dungeon Siege Tale ...</td>\n",
       "      <td>['Action', 'Adventure', 'Fantasy']</td>\n",
       "      <td>2008</td>\n",
       "      <td>1</td>\n",
       "      <td>0</td>\n",
       "      <td>0</td>\n",
       "      <td>0</td>\n",
       "      <td>1</td>\n",
       "      <td>0</td>\n",
       "      <td>...</td>\n",
       "      <td>0</td>\n",
       "      <td>0</td>\n",
       "      <td>0</td>\n",
       "      <td>0</td>\n",
       "      <td>241</td>\n",
       "      <td>2.062</td>\n",
       "      <td>460780</td>\n",
       "      <td>2312</td>\n",
       "      <td>{'adult': False, 'backdrop_path': '/u14b6vdFie...</td>\n",
       "      <td>[{'cast_id': 13, 'character': 'Farmer', 'credi...</td>\n",
       "    </tr>\n",
       "  </tbody>\n",
       "</table>\n",
       "<p>5 rows × 30 columns</p>\n",
       "</div>"
      ],
      "text/plain": [
       "   movieId                                              title  \\\n",
       "0    53207                                  88 Minutes (2008)   \n",
       "1    55603                      My Mom's New Boyfriend (2008)   \n",
       "2    55830                              Be Kind Rewind (2008)   \n",
       "3    56949                                  27 Dresses (2008)   \n",
       "4    57326  In the Name of the King: A Dungeon Siege Tale ...   \n",
       "\n",
       "                                        genres  release_year  Adventure  \\\n",
       "0    ['Crime', 'Drama', 'Mystery', 'Thriller']          2008          0   \n",
       "1  ['Action', 'Comedy', 'Romance', 'Thriller']          2008          0   \n",
       "2                                   ['Comedy']          2008          0   \n",
       "3                        ['Comedy', 'Romance']          2008          0   \n",
       "4           ['Action', 'Adventure', 'Fantasy']          2008          1   \n",
       "\n",
       "   Animation  Children  Comedy  Fantasy  Romance  \\\n",
       "0          0         0       0        0        0   \n",
       "1          0         0       1        0        1   \n",
       "2          0         0       1        0        0   \n",
       "3          0         0       1        0        1   \n",
       "4          0         0       0        1        0   \n",
       "\n",
       "                         ...                          Musical  Western  \\\n",
       "0                        ...                                0        0   \n",
       "1                        ...                                0        0   \n",
       "2                        ...                                0        0   \n",
       "3                        ...                                0        0   \n",
       "4                        ...                                0        0   \n",
       "\n",
       "   Film-Noir  (no genres listed)  movielens_number_reviews  \\\n",
       "0          0                   0                       628   \n",
       "1          0                   0                        59   \n",
       "2          0                   0                      1511   \n",
       "3          0                   0                      2108   \n",
       "4          0                   0                       241   \n",
       "\n",
       "   movielens_avg_rating  imdbId  tmdbId  \\\n",
       "0                 2.936  411061    3489   \n",
       "1                 2.924  780534    9262   \n",
       "2                 3.231  799934    4953   \n",
       "3                 3.170  988595    6557   \n",
       "4                 2.062  460780    2312   \n",
       "\n",
       "                                           tmdb_info  \\\n",
       "0  {'adult': False, 'backdrop_path': '/gLU169RfA0...   \n",
       "1  {'adult': False, 'backdrop_path': '/oCbczxmpLM...   \n",
       "2  {'adult': False, 'backdrop_path': '/4jydtNkMFA...   \n",
       "3  {'adult': False, 'backdrop_path': '/jwV0wmhEqH...   \n",
       "4  {'adult': False, 'backdrop_path': '/u14b6vdFie...   \n",
       "\n",
       "                                           tmdb_cast  \n",
       "0  [{'cast_id': 1, 'character': 'Jack Gramm', 'cr...  \n",
       "1  [{'cast_id': 11, 'character': 'Marthy Durand',...  \n",
       "2  [{'cast_id': 12, 'character': 'Jerry', 'credit...  \n",
       "3  [{'cast_id': 14, 'character': 'Jane Nichols', ...  \n",
       "4  [{'cast_id': 13, 'character': 'Farmer', 'credi...  \n",
       "\n",
       "[5 rows x 30 columns]"
      ]
     },
     "execution_count": 91,
     "metadata": {},
     "output_type": "execute_result"
    }
   ],
   "source": [
    "movies.head()"
   ]
  },
  {
   "cell_type": "code",
   "execution_count": 92,
   "metadata": {},
   "outputs": [
    {
     "data": {
      "text/html": [
       "<div>\n",
       "<style scoped>\n",
       "    .dataframe tbody tr th:only-of-type {\n",
       "        vertical-align: middle;\n",
       "    }\n",
       "\n",
       "    .dataframe tbody tr th {\n",
       "        vertical-align: top;\n",
       "    }\n",
       "\n",
       "    .dataframe thead th {\n",
       "        text-align: right;\n",
       "    }\n",
       "</style>\n",
       "<table border=\"1\" class=\"dataframe\">\n",
       "  <thead>\n",
       "    <tr style=\"text-align: right;\">\n",
       "      <th></th>\n",
       "      <th>Unnamed: 0</th>\n",
       "      <th>adult</th>\n",
       "      <th>backdrop_path</th>\n",
       "      <th>belongs_to_collection</th>\n",
       "      <th>budget</th>\n",
       "      <th>genres</th>\n",
       "      <th>homepage</th>\n",
       "      <th>id</th>\n",
       "      <th>imdb_id</th>\n",
       "      <th>original_language</th>\n",
       "      <th>...</th>\n",
       "      <th>release_date</th>\n",
       "      <th>revenue</th>\n",
       "      <th>runtime</th>\n",
       "      <th>spoken_languages</th>\n",
       "      <th>status</th>\n",
       "      <th>tagline</th>\n",
       "      <th>title</th>\n",
       "      <th>video</th>\n",
       "      <th>vote_average</th>\n",
       "      <th>vote_count</th>\n",
       "    </tr>\n",
       "  </thead>\n",
       "  <tbody>\n",
       "    <tr>\n",
       "      <th>0</th>\n",
       "      <td>0</td>\n",
       "      <td>False</td>\n",
       "      <td>/ok6Ws65nDSLAIKkKgIjqyM5OGCc.jpg</td>\n",
       "      <td>NaN</td>\n",
       "      <td>130000000</td>\n",
       "      <td>[{'id': 28, 'name': 'Action'}, {'id': 9648, 'n...</td>\n",
       "      <td>https://www.warnerbros.com/watchmen</td>\n",
       "      <td>13183</td>\n",
       "      <td>tt0409459</td>\n",
       "      <td>en</td>\n",
       "      <td>...</td>\n",
       "      <td>2009-03-05</td>\n",
       "      <td>185258983</td>\n",
       "      <td>163.000</td>\n",
       "      <td>[{'iso_639_1': 'en', 'name': 'English'}]</td>\n",
       "      <td>Released</td>\n",
       "      <td>Justice is coming to all of us.  No matter wha...</td>\n",
       "      <td>Watchmen</td>\n",
       "      <td>False</td>\n",
       "      <td>7.200</td>\n",
       "      <td>3918</td>\n",
       "    </tr>\n",
       "    <tr>\n",
       "      <th>1</th>\n",
       "      <td>0</td>\n",
       "      <td>False</td>\n",
       "      <td>/mBVyrtzC2aHkPfbN8iKXCwJRaKE.jpg</td>\n",
       "      <td>NaN</td>\n",
       "      <td>0</td>\n",
       "      <td>[{'id': 35, 'name': 'Comedy'}, {'id': 10749, '...</td>\n",
       "      <td>NaN</td>\n",
       "      <td>13401</td>\n",
       "      <td>tt0809504</td>\n",
       "      <td>en</td>\n",
       "      <td>...</td>\n",
       "      <td>2008-02-29</td>\n",
       "      <td>22707064</td>\n",
       "      <td>90.000</td>\n",
       "      <td>[{'iso_639_1': 'en', 'name': 'English'}, {'iso...</td>\n",
       "      <td>Released</td>\n",
       "      <td>NaN</td>\n",
       "      <td>The Accidental Husband</td>\n",
       "      <td>False</td>\n",
       "      <td>5.300</td>\n",
       "      <td>249</td>\n",
       "    </tr>\n",
       "    <tr>\n",
       "      <th>2</th>\n",
       "      <td>0</td>\n",
       "      <td>False</td>\n",
       "      <td>/pUNlJ6jzDsgUvPjJeFfsyyOSZJx.jpg</td>\n",
       "      <td>NaN</td>\n",
       "      <td>32000000</td>\n",
       "      <td>[{'id': 12, 'name': 'Adventure'}, {'id': 18, '...</td>\n",
       "      <td>http://www.theroad-movie.com/</td>\n",
       "      <td>20766</td>\n",
       "      <td>tt0898367</td>\n",
       "      <td>en</td>\n",
       "      <td>...</td>\n",
       "      <td>2009-11-25</td>\n",
       "      <td>27635305</td>\n",
       "      <td>111.000</td>\n",
       "      <td>[{'iso_639_1': 'en', 'name': 'English'}]</td>\n",
       "      <td>Released</td>\n",
       "      <td>In a moment the world changed forever.</td>\n",
       "      <td>The Road</td>\n",
       "      <td>False</td>\n",
       "      <td>6.900</td>\n",
       "      <td>1497</td>\n",
       "    </tr>\n",
       "    <tr>\n",
       "      <th>3</th>\n",
       "      <td>0</td>\n",
       "      <td>False</td>\n",
       "      <td>/f7pTesNnPjOVAq7QqhgnSHaK9Cc.jpg</td>\n",
       "      <td>NaN</td>\n",
       "      <td>30000000</td>\n",
       "      <td>[{'id': 35, 'name': 'Comedy'}, {'id': 10749, '...</td>\n",
       "      <td>http://www.bridewars.com</td>\n",
       "      <td>10521</td>\n",
       "      <td>tt0901476</td>\n",
       "      <td>en</td>\n",
       "      <td>...</td>\n",
       "      <td>2009-01-09</td>\n",
       "      <td>114663461</td>\n",
       "      <td>89.000</td>\n",
       "      <td>[{'iso_639_1': 'en', 'name': 'English'}]</td>\n",
       "      <td>Released</td>\n",
       "      <td>May the best bride win</td>\n",
       "      <td>Bride Wars</td>\n",
       "      <td>False</td>\n",
       "      <td>6.000</td>\n",
       "      <td>1282</td>\n",
       "    </tr>\n",
       "    <tr>\n",
       "      <th>4</th>\n",
       "      <td>0</td>\n",
       "      <td>False</td>\n",
       "      <td>/3ggNo1od6Rs1eJwhU3TkwJi3wbi.jpg</td>\n",
       "      <td>{'id': 264437, 'name': 'My Bloody Valentine Co...</td>\n",
       "      <td>15000000</td>\n",
       "      <td>[{'id': 9648, 'name': 'Mystery'}, {'id': 27, '...</td>\n",
       "      <td>http://www.mybloodyvalentinein3d.com/</td>\n",
       "      <td>14435</td>\n",
       "      <td>tt1179891</td>\n",
       "      <td>en</td>\n",
       "      <td>...</td>\n",
       "      <td>2009-01-16</td>\n",
       "      <td>102836002</td>\n",
       "      <td>101.000</td>\n",
       "      <td>[{'iso_639_1': 'en', 'name': 'English'}]</td>\n",
       "      <td>Released</td>\n",
       "      <td>He's gonna break your heart.</td>\n",
       "      <td>My Bloody Valentine</td>\n",
       "      <td>False</td>\n",
       "      <td>5.300</td>\n",
       "      <td>433</td>\n",
       "    </tr>\n",
       "  </tbody>\n",
       "</table>\n",
       "<p>5 rows × 26 columns</p>\n",
       "</div>"
      ],
      "text/plain": [
       "   Unnamed: 0  adult                     backdrop_path  \\\n",
       "0           0  False  /ok6Ws65nDSLAIKkKgIjqyM5OGCc.jpg   \n",
       "1           0  False  /mBVyrtzC2aHkPfbN8iKXCwJRaKE.jpg   \n",
       "2           0  False  /pUNlJ6jzDsgUvPjJeFfsyyOSZJx.jpg   \n",
       "3           0  False  /f7pTesNnPjOVAq7QqhgnSHaK9Cc.jpg   \n",
       "4           0  False  /3ggNo1od6Rs1eJwhU3TkwJi3wbi.jpg   \n",
       "\n",
       "                               belongs_to_collection     budget  \\\n",
       "0                                                NaN  130000000   \n",
       "1                                                NaN          0   \n",
       "2                                                NaN   32000000   \n",
       "3                                                NaN   30000000   \n",
       "4  {'id': 264437, 'name': 'My Bloody Valentine Co...   15000000   \n",
       "\n",
       "                                              genres  \\\n",
       "0  [{'id': 28, 'name': 'Action'}, {'id': 9648, 'n...   \n",
       "1  [{'id': 35, 'name': 'Comedy'}, {'id': 10749, '...   \n",
       "2  [{'id': 12, 'name': 'Adventure'}, {'id': 18, '...   \n",
       "3  [{'id': 35, 'name': 'Comedy'}, {'id': 10749, '...   \n",
       "4  [{'id': 9648, 'name': 'Mystery'}, {'id': 27, '...   \n",
       "\n",
       "                                homepage     id    imdb_id original_language  \\\n",
       "0    https://www.warnerbros.com/watchmen  13183  tt0409459                en   \n",
       "1                                    NaN  13401  tt0809504                en   \n",
       "2          http://www.theroad-movie.com/  20766  tt0898367                en   \n",
       "3               http://www.bridewars.com  10521  tt0901476                en   \n",
       "4  http://www.mybloodyvalentinein3d.com/  14435  tt1179891                en   \n",
       "\n",
       "     ...     release_date    revenue  runtime  \\\n",
       "0    ...       2009-03-05  185258983  163.000   \n",
       "1    ...       2008-02-29   22707064   90.000   \n",
       "2    ...       2009-11-25   27635305  111.000   \n",
       "3    ...       2009-01-09  114663461   89.000   \n",
       "4    ...       2009-01-16  102836002  101.000   \n",
       "\n",
       "                                    spoken_languages    status  \\\n",
       "0           [{'iso_639_1': 'en', 'name': 'English'}]  Released   \n",
       "1  [{'iso_639_1': 'en', 'name': 'English'}, {'iso...  Released   \n",
       "2           [{'iso_639_1': 'en', 'name': 'English'}]  Released   \n",
       "3           [{'iso_639_1': 'en', 'name': 'English'}]  Released   \n",
       "4           [{'iso_639_1': 'en', 'name': 'English'}]  Released   \n",
       "\n",
       "                                             tagline                   title  \\\n",
       "0  Justice is coming to all of us.  No matter wha...                Watchmen   \n",
       "1                                                NaN  The Accidental Husband   \n",
       "2             In a moment the world changed forever.                The Road   \n",
       "3                             May the best bride win              Bride Wars   \n",
       "4                       He's gonna break your heart.     My Bloody Valentine   \n",
       "\n",
       "   video  vote_average vote_count  \n",
       "0  False         7.200       3918  \n",
       "1  False         5.300        249  \n",
       "2  False         6.900       1497  \n",
       "3  False         6.000       1282  \n",
       "4  False         5.300        433  \n",
       "\n",
       "[5 rows x 26 columns]"
      ]
     },
     "execution_count": 92,
     "metadata": {},
     "output_type": "execute_result"
    }
   ],
   "source": [
    "tmovies.head()"
   ]
  },
  {
   "cell_type": "code",
   "execution_count": 93,
   "metadata": {},
   "outputs": [],
   "source": [
    "movies = pd.merge(movies, tmovies, how='left', left_on='tmdbId', right_on='id',  suffixes=('', '_t'))"
   ]
  },
  {
   "cell_type": "code",
   "execution_count": 94,
   "metadata": {
    "scrolled": false
   },
   "outputs": [
    {
     "data": {
      "text/html": [
       "<div>\n",
       "<style scoped>\n",
       "    .dataframe tbody tr th:only-of-type {\n",
       "        vertical-align: middle;\n",
       "    }\n",
       "\n",
       "    .dataframe tbody tr th {\n",
       "        vertical-align: top;\n",
       "    }\n",
       "\n",
       "    .dataframe thead th {\n",
       "        text-align: right;\n",
       "    }\n",
       "</style>\n",
       "<table border=\"1\" class=\"dataframe\">\n",
       "  <thead>\n",
       "    <tr style=\"text-align: right;\">\n",
       "      <th></th>\n",
       "      <th>movieId</th>\n",
       "      <th>title</th>\n",
       "      <th>genres</th>\n",
       "      <th>release_year</th>\n",
       "      <th>Adventure</th>\n",
       "      <th>Animation</th>\n",
       "      <th>Children</th>\n",
       "      <th>Comedy</th>\n",
       "      <th>Fantasy</th>\n",
       "      <th>Romance</th>\n",
       "      <th>...</th>\n",
       "      <th>release_date</th>\n",
       "      <th>revenue</th>\n",
       "      <th>runtime</th>\n",
       "      <th>spoken_languages</th>\n",
       "      <th>status</th>\n",
       "      <th>tagline</th>\n",
       "      <th>title_t</th>\n",
       "      <th>video</th>\n",
       "      <th>vote_average</th>\n",
       "      <th>vote_count</th>\n",
       "    </tr>\n",
       "  </thead>\n",
       "  <tbody>\n",
       "    <tr>\n",
       "      <th>0</th>\n",
       "      <td>53207</td>\n",
       "      <td>88 Minutes (2008)</td>\n",
       "      <td>['Crime', 'Drama', 'Mystery', 'Thriller']</td>\n",
       "      <td>2008</td>\n",
       "      <td>0</td>\n",
       "      <td>0</td>\n",
       "      <td>0</td>\n",
       "      <td>0</td>\n",
       "      <td>0</td>\n",
       "      <td>0</td>\n",
       "      <td>...</td>\n",
       "      <td>NaN</td>\n",
       "      <td>nan</td>\n",
       "      <td>nan</td>\n",
       "      <td>NaN</td>\n",
       "      <td>NaN</td>\n",
       "      <td>NaN</td>\n",
       "      <td>NaN</td>\n",
       "      <td>NaN</td>\n",
       "      <td>nan</td>\n",
       "      <td>nan</td>\n",
       "    </tr>\n",
       "    <tr>\n",
       "      <th>1</th>\n",
       "      <td>55603</td>\n",
       "      <td>My Mom's New Boyfriend (2008)</td>\n",
       "      <td>['Action', 'Comedy', 'Romance', 'Thriller']</td>\n",
       "      <td>2008</td>\n",
       "      <td>0</td>\n",
       "      <td>0</td>\n",
       "      <td>0</td>\n",
       "      <td>1</td>\n",
       "      <td>0</td>\n",
       "      <td>1</td>\n",
       "      <td>...</td>\n",
       "      <td>NaN</td>\n",
       "      <td>nan</td>\n",
       "      <td>nan</td>\n",
       "      <td>NaN</td>\n",
       "      <td>NaN</td>\n",
       "      <td>NaN</td>\n",
       "      <td>NaN</td>\n",
       "      <td>NaN</td>\n",
       "      <td>nan</td>\n",
       "      <td>nan</td>\n",
       "    </tr>\n",
       "    <tr>\n",
       "      <th>2</th>\n",
       "      <td>55830</td>\n",
       "      <td>Be Kind Rewind (2008)</td>\n",
       "      <td>['Comedy']</td>\n",
       "      <td>2008</td>\n",
       "      <td>0</td>\n",
       "      <td>0</td>\n",
       "      <td>0</td>\n",
       "      <td>1</td>\n",
       "      <td>0</td>\n",
       "      <td>0</td>\n",
       "      <td>...</td>\n",
       "      <td>NaN</td>\n",
       "      <td>nan</td>\n",
       "      <td>nan</td>\n",
       "      <td>NaN</td>\n",
       "      <td>NaN</td>\n",
       "      <td>NaN</td>\n",
       "      <td>NaN</td>\n",
       "      <td>NaN</td>\n",
       "      <td>nan</td>\n",
       "      <td>nan</td>\n",
       "    </tr>\n",
       "    <tr>\n",
       "      <th>3</th>\n",
       "      <td>56949</td>\n",
       "      <td>27 Dresses (2008)</td>\n",
       "      <td>['Comedy', 'Romance']</td>\n",
       "      <td>2008</td>\n",
       "      <td>0</td>\n",
       "      <td>0</td>\n",
       "      <td>0</td>\n",
       "      <td>1</td>\n",
       "      <td>0</td>\n",
       "      <td>1</td>\n",
       "      <td>...</td>\n",
       "      <td>NaN</td>\n",
       "      <td>nan</td>\n",
       "      <td>nan</td>\n",
       "      <td>NaN</td>\n",
       "      <td>NaN</td>\n",
       "      <td>NaN</td>\n",
       "      <td>NaN</td>\n",
       "      <td>NaN</td>\n",
       "      <td>nan</td>\n",
       "      <td>nan</td>\n",
       "    </tr>\n",
       "    <tr>\n",
       "      <th>4</th>\n",
       "      <td>57326</td>\n",
       "      <td>In the Name of the King: A Dungeon Siege Tale ...</td>\n",
       "      <td>['Action', 'Adventure', 'Fantasy']</td>\n",
       "      <td>2008</td>\n",
       "      <td>1</td>\n",
       "      <td>0</td>\n",
       "      <td>0</td>\n",
       "      <td>0</td>\n",
       "      <td>1</td>\n",
       "      <td>0</td>\n",
       "      <td>...</td>\n",
       "      <td>NaN</td>\n",
       "      <td>nan</td>\n",
       "      <td>nan</td>\n",
       "      <td>NaN</td>\n",
       "      <td>NaN</td>\n",
       "      <td>NaN</td>\n",
       "      <td>NaN</td>\n",
       "      <td>NaN</td>\n",
       "      <td>nan</td>\n",
       "      <td>nan</td>\n",
       "    </tr>\n",
       "  </tbody>\n",
       "</table>\n",
       "<p>5 rows × 56 columns</p>\n",
       "</div>"
      ],
      "text/plain": [
       "   movieId                                              title  \\\n",
       "0    53207                                  88 Minutes (2008)   \n",
       "1    55603                      My Mom's New Boyfriend (2008)   \n",
       "2    55830                              Be Kind Rewind (2008)   \n",
       "3    56949                                  27 Dresses (2008)   \n",
       "4    57326  In the Name of the King: A Dungeon Siege Tale ...   \n",
       "\n",
       "                                        genres  release_year  Adventure  \\\n",
       "0    ['Crime', 'Drama', 'Mystery', 'Thriller']          2008          0   \n",
       "1  ['Action', 'Comedy', 'Romance', 'Thriller']          2008          0   \n",
       "2                                   ['Comedy']          2008          0   \n",
       "3                        ['Comedy', 'Romance']          2008          0   \n",
       "4           ['Action', 'Adventure', 'Fantasy']          2008          1   \n",
       "\n",
       "   Animation  Children  Comedy  Fantasy  Romance     ...      release_date  \\\n",
       "0          0         0       0        0        0     ...               NaN   \n",
       "1          0         0       1        0        1     ...               NaN   \n",
       "2          0         0       1        0        0     ...               NaN   \n",
       "3          0         0       1        0        1     ...               NaN   \n",
       "4          0         0       0        1        0     ...               NaN   \n",
       "\n",
       "   revenue  runtime  spoken_languages  status  tagline  title_t  video  \\\n",
       "0      nan      nan               NaN     NaN      NaN      NaN    NaN   \n",
       "1      nan      nan               NaN     NaN      NaN      NaN    NaN   \n",
       "2      nan      nan               NaN     NaN      NaN      NaN    NaN   \n",
       "3      nan      nan               NaN     NaN      NaN      NaN    NaN   \n",
       "4      nan      nan               NaN     NaN      NaN      NaN    NaN   \n",
       "\n",
       "   vote_average  vote_count  \n",
       "0           nan         nan  \n",
       "1           nan         nan  \n",
       "2           nan         nan  \n",
       "3           nan         nan  \n",
       "4           nan         nan  \n",
       "\n",
       "[5 rows x 56 columns]"
      ]
     },
     "execution_count": 94,
     "metadata": {},
     "output_type": "execute_result"
    }
   ],
   "source": [
    "movies.head()"
   ]
  },
  {
   "cell_type": "code",
   "execution_count": 103,
   "metadata": {},
   "outputs": [],
   "source": [
    "pd.set_option('display.max_columns', None)"
   ]
  },
  {
   "cell_type": "markdown",
   "metadata": {},
   "source": [
    "# Datetime"
   ]
  },
  {
   "cell_type": "code",
   "execution_count": 95,
   "metadata": {},
   "outputs": [],
   "source": [
    "movies['release_date'] = pd.to_datetime(movies['release_date'])\n",
    "movies['year'] = movies.release_date.dt.year\n",
    "movies['month'] = movies.release_date.dt.month\n",
    "movies['dow'] = movies.release_date.dt.weekday"
   ]
  },
  {
   "cell_type": "code",
   "execution_count": 121,
   "metadata": {},
   "outputs": [],
   "source": [
    "movies['pl'] = movies['revenue'] - movies['budget']"
   ]
  },
  {
   "cell_type": "markdown",
   "metadata": {},
   "source": [
    "# Revenue"
   ]
  },
  {
   "cell_type": "code",
   "execution_count": 122,
   "metadata": {},
   "outputs": [],
   "source": [
    "#exclude movies with 0 budgets\n",
    "movies_1 = movies[movies['budget'] > 0]\n"
   ]
  },
  {
   "cell_type": "markdown",
   "metadata": {},
   "source": [
    "Distributions for both revenue and budget appear heavily right skewed, with most movies costing and making no money at all"
   ]
  },
  {
   "cell_type": "code",
   "execution_count": 162,
   "metadata": {
    "scrolled": true
   },
   "outputs": [
    {
     "data": {
      "image/png": "[encoded data removed]",
      "text/plain": [
       "<matplotlib.figure.Figure at 0x1d888d34588>"
      ]
     },
     "metadata": {},
     "output_type": "display_data"
    }
   ],
   "source": [
    "sns.distplot(movies_1['revenue']).set_title('Revenue (USD)')\n",
    "sns.despine()\n"
   ]
  },
  {
   "cell_type": "code",
   "execution_count": 163,
   "metadata": {
    "scrolled": true
   },
   "outputs": [
    {
     "data": {
      "image/png": "[encoded data removed]",
      "text/plain": [
       "<matplotlib.figure.Figure at 0x1d888388da0>"
      ]
     },
     "metadata": {},
     "output_type": "display_data"
    }
   ],
   "source": [
    "sns.distplot(movies_1['budget']).set_title('Budget (USD)')\n",
    "sns.despine()"
   ]
  },
  {
   "cell_type": "markdown",
   "metadata": {},
   "source": [
    "In general, total revenues appear to be far higher than budgets"
   ]
  },
  {
   "cell_type": "code",
   "execution_count": 165,
   "metadata": {
    "scrolled": true
   },
   "outputs": [
    {
     "data": {
      "text/plain": [
       "Text(0.5,0,'Release year')"
      ]
     },
     "execution_count": 165,
     "metadata": {},
     "output_type": "execute_result"
    },
    {
     "data": {
      "image/png": "[encoded data removed]",
      "text/plain": [
       "<matplotlib.figure.Figure at 0x1d88829b9e8>"
      ]
     },
     "metadata": {},
     "output_type": "display_data"
    }
   ],
   "source": [
    "\n",
    "movies.groupby('release_year')['revenue', 'budget', 'pl'].sum().sort_index(ascending=True).plot(kind='bar', color=['palegreen', 'pink', 'lightblue'])\n",
    "plt.title('Total revenue and budget by year (USD)')\n",
    "plt.xlabel('Release year')\n"
   ]
  },
  {
   "cell_type": "markdown",
   "metadata": {},
   "source": [
    "The average movie appears to make more than its budget"
   ]
  },
  {
   "cell_type": "code",
   "execution_count": 126,
   "metadata": {
    "scrolled": true
   },
   "outputs": [
    {
     "data": {
      "text/plain": [
       "Text(0.5,0,'Release year')"
      ]
     },
     "execution_count": 126,
     "metadata": {},
     "output_type": "execute_result"
    },
    {
     "data": {
      "image/png": "[encoded data removed]",
      "text/plain": [
       "<matplotlib.figure.Figure at 0x1d8fc459da0>"
      ]
     },
     "metadata": {},
     "output_type": "display_data"
    }
   ],
   "source": [
    "ax = movies_1.groupby('release_year')['revenue', 'budget', 'pl'].agg(np.mean).sort_index(ascending=True).plot(kind='bar', color=['palegreen', 'pink', 'lightblue'])\n",
    "plt.title('Mean revenue and budget by year (USD)')\n",
    "plt.xlabel('Release year')\n"
   ]
  },
  {
   "cell_type": "markdown",
   "metadata": {},
   "source": [
    "However, this hides the issue that the mean is heavily affected by outliers. Strangely, the median profit appears to be quite unrelated to the median revenue and budget"
   ]
  },
  {
   "cell_type": "code",
   "execution_count": 130,
   "metadata": {},
   "outputs": [
    {
     "data": {
      "text/plain": [
       "Text(0.5,0,'Release year')"
      ]
     },
     "execution_count": 130,
     "metadata": {},
     "output_type": "execute_result"
    },
    {
     "data": {
      "image/png": "[encoded data removed]",
      "text/plain": [
       "<matplotlib.figure.Figure at 0x1d8fc5d1780>"
      ]
     },
     "metadata": {},
     "output_type": "display_data"
    }
   ],
   "source": [
    "ax = movies_1.groupby('release_year')['revenue', 'budget', 'pl'].agg(np.median).sort_index(ascending=True).plot(kind='bar', color=['palegreen', 'pink', 'lightblue'])\n",
    "plt.title('Median revenue and budget by year (USD)')\n",
    "plt.xlabel('Release year')\n"
   ]
  },
  {
   "cell_type": "markdown",
   "metadata": {},
   "source": []
  }
 ],
 "metadata": {
  "kernelspec": {
   "display_name": "Python 3",
   "language": "python",
   "name": "python3"
  },
  "language_info": {
   "codemirror_mode": {
    "name": "ipython",
    "version": 3
   },
   "file_extension": ".py",
   "mimetype": "text/x-python",
   "name": "python",
   "nbconvert_exporter": "python",
   "pygments_lexer": "ipython3",
   "version": "3.6.4"
  }
 },
 "nbformat": 4,
 "nbformat_minor": 2
}
