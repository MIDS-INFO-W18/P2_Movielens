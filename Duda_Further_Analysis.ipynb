{
 "cells": [
  {
   "cell_type": "code",
   "execution_count": null,
   "metadata": {},
   "outputs": [],
   "source": [
    "#Some very important libraries\n",
    "\n",
    "import csv\n",
    "import pandas as pd\n",
    "import numpy as np\n",
    "import matplotlib.pyplot as plt\n",
    "%matplotlib inline\n",
    "import matplotlib.dates\n",
    "import seaborn as sns"
   ]
  },
  {
   "cell_type": "code",
   "execution_count": null,
   "metadata": {},
   "outputs": [],
   "source": [
    "#Loading the joined dataset\n",
    "\n",
    "movies=pd.read_csv('Join_TMDB_Filtered.csv')\n",
    "movies.head(10)"
   ]
  },
  {
   "cell_type": "code",
   "execution_count": null,
   "metadata": {},
   "outputs": [],
   "source": [
    "#Loading the file that contains the ratings each Movielens user gave each of the films he/she watched\n",
    "\n",
    "ratings=pd.read_csv(\"./ml-dataset/ratings.csv\")\n",
    "\n",
    "#Changing the timestamp to a more readable format\n",
    "\n",
    "ratings[\"timestamp\"]=pd.to_datetime(ratings[\"timestamp\"],unit='s')\n",
    "\n",
    "ratings.head(10)"
   ]
  },
  {
   "cell_type": "code",
   "execution_count": null,
   "metadata": {},
   "outputs": [],
   "source": [
    "#List of movielens IDs\n",
    "\n",
    "list_ids=list(movies[\"movieId\"])\n",
    "\n",
    "list_ids"
   ]
  },
  {
   "cell_type": "code",
   "execution_count": null,
   "metadata": {},
   "outputs": [],
   "source": [
    "cast_all=[]\n",
    "cast_main=[]\n",
    "for i in range(len(movies)):\n",
    "    cast_str=movies.iloc[i][\"tmdb_cast\"]\n",
    "    cast_spl=cast_str.split(\"'name': \")\n",
    "    actors_list=[]\n",
    "    for j in range(1,len(cast_spl)):\n",
    "        actor_name=cast_spl[j].split(',')[0]\n",
    "        actor=actor_name.replace(\"'\",\"\").replace('\"','')\n",
    "        actors_list.append(actor)\n",
    "    cast_all.append(actors_list)\n",
    "    cast_main.append(actors_list[0:3])"
   ]
  },
  {
   "cell_type": "code",
   "execution_count": null,
   "metadata": {},
   "outputs": [],
   "source": [
    "movies[\"actors_list\"]=cast_all\n",
    "movies[\"main_actors\"]=cast_main"
   ]
  },
  {
   "cell_type": "code",
   "execution_count": null,
   "metadata": {},
   "outputs": [],
   "source": [
    "movies.head()"
   ]
  },
  {
   "cell_type": "code",
   "execution_count": null,
   "metadata": {},
   "outputs": [],
   "source": [
    "movies.iloc[0][\"tmdb_info\"]"
   ]
  },
  {
   "cell_type": "code",
   "execution_count": null,
   "metadata": {},
   "outputs": [],
   "source": [
    "production_companies=[]\n",
    "release_dates=[]\n",
    "votes_average=[]\n",
    "votes_count=[]\n",
    "revenues=[]\n",
    "budgets=[]\n",
    "for i in range(len(movies)):\n",
    "    info_str=movies.iloc[i][\"tmdb_info\"]\n",
    "    budget=int(info_str.split(\"'budget': \")[1].split(\",\")[0].replace(\"'\",\"\").replace('\"',''))\n",
    "    vote_average=float(info_str.split(\"'vote_average': \")[1].split(\",\")[0].replace(\"'\",\"\").replace('\"',''))\n",
    "    vote_count=int(info_str.split(\"'vote_count': \")[1].split(\"}\")[0].replace(\"'\",\"\").replace('\"',''))\n",
    "    release_date=info_str.split(\"'release_date': \")[1].split(\",\")[0].replace(\"'\",\"\").replace('\"','')\n",
    "    revenue=int(info_str.split(\"'revenue': \")[1].split(\",\")[0].replace(\"'\",\"\").replace('\"',''))\n",
    "    production_spl=info_str.split(\"'production_companies': \")[1].split(\"}]\")[0].split(\"'name': \")\n",
    "    production=[]\n",
    "    for j in range(1,len(production_spl)):\n",
    "        company_name=production_spl[j].split(',')[0]\n",
    "        company=company_name.replace(\"'\",\"\").replace('\"','')\n",
    "        production.append(company)\n",
    "    cast_all.append(actors_list)\n",
    "    production_companies.append(production)\n",
    "    release_dates.append(release_date)\n",
    "    votes_average.append(vote_average)\n",
    "    votes_count.append(vote_count)\n",
    "    revenues.append(revenue)\n",
    "    budgets.append(budget)"
   ]
  },
  {
   "cell_type": "code",
   "execution_count": null,
   "metadata": {},
   "outputs": [],
   "source": [
    "movies['production_companies']=production_companies\n",
    "movies['release_date']=release_dates\n",
    "movies['tmdb_vote_avg']=votes_average\n",
    "movies['vote_count']=votes_count\n",
    "movies['revenue']=revenues\n",
    "movies['budget']=budgets\n",
    "movies.head(10)"
   ]
  },
  {
   "cell_type": "code",
   "execution_count": null,
   "metadata": {},
   "outputs": [],
   "source": [
    "P_L=[row.revenue - row.budget for index, row in movies.iterrows()]"
   ]
  },
  {
   "cell_type": "code",
   "execution_count": null,
   "metadata": {},
   "outputs": [],
   "source": [
    "movies[\"P_L\"]=P_L\n",
    "movies.head(10)"
   ]
  },
  {
   "cell_type": "code",
   "execution_count": null,
   "metadata": {},
   "outputs": [],
   "source": [
    "movies.to_csv('full_movies.csv')"
   ]
  },
  {
   "cell_type": "markdown",
   "metadata": {},
   "source": [
    "## Ratings vs Actors"
   ]
  },
  {
   "cell_type": "code",
   "execution_count": null,
   "metadata": {},
   "outputs": [],
   "source": [
    "#Creating a list with actors names\n",
    "\n",
    "act=list(movies[\"main_actors\"])\n",
    "all_actors=[]\n",
    "for i in range(len(act)):\n",
    "    sub=act[i]\n",
    "    for actor in sub:\n",
    "        if actor in all_actors:\n",
    "            pass\n",
    "        else:\n",
    "            all_actors.append(actor)\n",
    "            \n",
    "#print(all_actors)"
   ]
  },
  {
   "cell_type": "code",
   "execution_count": null,
   "metadata": {},
   "outputs": [],
   "source": [
    "movies.columns"
   ]
  },
  {
   "cell_type": "code",
   "execution_count": null,
   "metadata": {},
   "outputs": [],
   "source": [
    "# len(all_actors)"
   ]
  },
  {
   "cell_type": "code",
   "execution_count": null,
   "metadata": {},
   "outputs": [],
   "source": [
    "#Analysing Movielens Avg Rating per Movie with actor in main characters:\n",
    "ratings_per_actor=[]\n",
    "budget_per_actor=[]\n",
    "revenue_per_actor=[]\n",
    "movies_per_actor=[]\n",
    "pl_per_actor=[]\n",
    "counts=0\n",
    "\n",
    "for actor in all_actors:\n",
    "    nr_reviews=0\n",
    "    sum_ratings=0\n",
    "    nr_movies=0\n",
    "    rev=0\n",
    "    bud=0\n",
    "    pl=0\n",
    "    for i in range(len(movies)):\n",
    "        if actor in movies.iloc[i][\"main_actors\"]:\n",
    "            nr_reviews= nr_reviews + movies.iloc[i][\"movielens_number_reviews\"]\n",
    "            sum_ratings=sum_ratings + movies.iloc[i][\"movielens_number_reviews\"]*movies.iloc[i][\"movielens_avg_rating\"]\n",
    "            nr_movies+=1\n",
    "            rev=rev+movies.iloc[i][\"revenue\"]\n",
    "            bud=bud+movies.iloc[i][\"budget\"]\n",
    "            pl=pl+movies.iloc[i][\"P_L\"]\n",
    "    if nr_reviews==0:\n",
    "        ratings_per_actor.append(0)\n",
    "    else:\n",
    "        ratings_per_actor.append(sum_ratings/nr_reviews)\n",
    "    if nr_movies==0:\n",
    "        budget_per_actor.append(0)\n",
    "        revenue_per_actor.append(0)\n",
    "        pl_per_actor.append(0)\n",
    "        movies_per_actor.append(0)\n",
    "    else:\n",
    "        budget_per_actor.append(bud/nr_movies)\n",
    "        revenue_per_actor.append(rev/nr_movies)\n",
    "        pl_per_actor.append(pl/nr_movies)\n",
    "        movies_per_actor.append(nr_movies)"
   ]
  },
  {
   "cell_type": "code",
   "execution_count": null,
   "metadata": {},
   "outputs": [],
   "source": [
    "actor_analysis=pd.DataFrame(all_actors)"
   ]
  },
  {
   "cell_type": "code",
   "execution_count": null,
   "metadata": {},
   "outputs": [],
   "source": [
    "actor_analysis.rename(columns={0:'main_actor'},inplace=True)"
   ]
  },
  {
   "cell_type": "code",
   "execution_count": null,
   "metadata": {},
   "outputs": [],
   "source": [
    "actor_analysis[\"avg_rating_movies\"]=ratings_per_actor\n",
    "actor_analysis[\"avg_movies_budget\"]=budget_per_actor\n",
    "actor_analysis[\"avg_movies_revenue\"]=revenue_per_actor\n",
    "actor_analysis[\"avg_movies_pl\"]=pl_per_actor\n",
    "actor_analysis[\"nr_movies\"]=movies_per_actor\n",
    "\n",
    "actor_analysis.head(10)"
   ]
  },
  {
   "cell_type": "code",
   "execution_count": null,
   "metadata": {},
   "outputs": [],
   "source": [
    "actor_analysis.to_csv('actor_analysis.csv')"
   ]
  },
  {
   "cell_type": "code",
   "execution_count": null,
   "metadata": {},
   "outputs": [],
   "source": [
    "actors_top_rt=actor_analysis[[\"main_actor\",\"avg_rating_movies\",\"nr_movies\"]].copy()\n",
    "\n",
    "\n",
    "#only actores that starred in over 10 movies (not to be too biased over people that starred in few movies)\n",
    "actors_top_rt_more_10=actors_top_rt[actors_top_rt.nr_movies>10].copy()\n",
    "actors_top_rt_more_10.dropna(inplace=True)\n",
    "actors_top_rt_more_10.sort_values(by='avg_rating_movies',axis=0,ascending=False,inplace=True)"
   ]
  },
  {
   "cell_type": "code",
   "execution_count": null,
   "metadata": {},
   "outputs": [],
   "source": [
    "actors_top_rt_more_10"
   ]
  },
  {
   "cell_type": "code",
   "execution_count": null,
   "metadata": {},
   "outputs": [],
   "source": [
    "plt.figure()\n",
    "\n",
    "actors_top_rt_more_10.plot(kind='bar',x='main_actor',y='avg_rating_movies',colormap='rainbow',figsize=(25,10))\n",
    "plt.show()"
   ]
  },
  {
   "cell_type": "code",
   "execution_count": null,
   "metadata": {},
   "outputs": [],
   "source": [
    "plt.figure()\n",
    "\n",
    "ax = actors_top_rt_more_10.plot(kind='bar',x='main_actor',y='avg_rating_movies',colormap='tab10',figsize=(25,10),ylim=(2.5,4.0),fontsize=14,title='Average Movie Ratings per Actor',legend=False)\n",
    "ax.set(xlabel='Actors', ylabel='Average Ratings')\n",
    "ax.title.set_size(30)\n",
    "ax.xaxis.label.set_size(20)\n",
    "ax.yaxis.label.set_size(20)\n",
    "plt.show()"
   ]
  },
  {
   "cell_type": "markdown",
   "metadata": {},
   "source": [
    "## Revenue vs Actors"
   ]
  },
  {
   "cell_type": "code",
   "execution_count": null,
   "metadata": {},
   "outputs": [],
   "source": [
    "actors_top_rv=actor_analysis[[\"main_actor\",\"avg_movies_revenue\",\"nr_movies\"]].copy()\n",
    "\n",
    "\n",
    "#only actores that starred in over 10 movies (not to be too biased over people that starred in few movies)\n",
    "actors_top_rv_more_10=actors_top_rv[actors_top_rv.nr_movies>10].copy()\n",
    "actors_top_rv_more_10.dropna(inplace=True)\n",
    "actors_top_rv_more_10.sort_values(by='avg_movies_revenue',axis=0,ascending=False,inplace=True)\n",
    "\n",
    "actors_top_rv_more_10"
   ]
  },
  {
   "cell_type": "code",
   "execution_count": null,
   "metadata": {},
   "outputs": [],
   "source": [
    "plt.figure()\n",
    "\n",
    "ax = actors_top_rv_more_10.plot(kind='bar',x='main_actor',y='avg_movies_revenue',colormap='summer',figsize=(25,10),fontsize=14,title='Average Revenue per Movies Starred',legend=False)\n",
    "ax.set(xlabel='Actors', ylabel='Average Revenues')\n",
    "ax.title.set_size(30)\n",
    "ax.xaxis.label.set_size(20)\n",
    "ax.yaxis.label.set_size(20)\n",
    "plt.show()"
   ]
  },
  {
   "cell_type": "markdown",
   "metadata": {},
   "source": [
    "## Budget vs Actors"
   ]
  },
  {
   "cell_type": "code",
   "execution_count": null,
   "metadata": {},
   "outputs": [],
   "source": [
    "actors_top_bd=actor_analysis[[\"main_actor\",\"avg_movies_budget\",\"nr_movies\"]].copy()\n",
    "\n",
    "#only actors that starred in over 10 movies (not to be too biased over people that starred in few movies)\n",
    "actors_top_bd_more_10=actors_top_bd[actors_top_bd.nr_movies>10].copy()\n",
    "actors_top_bd_more_10.dropna(inplace=True)\n",
    "actors_top_bd_more_10.sort_values(by='avg_movies_budget',axis=0,ascending=False,inplace=True)\n",
    "\n",
    "actors_top_bd_more_10"
   ]
  },
  {
   "cell_type": "code",
   "execution_count": null,
   "metadata": {},
   "outputs": [],
   "source": [
    "plt.figure()\n",
    "\n",
    "ax = actors_top_bd_more_10.plot(kind='bar',x='main_actor',y='avg_movies_budget',colormap='RdYlGn',figsize=(25,10),fontsize=14,title='Average Budget per Movies Starred',legend=False)\n",
    "ax.set(xlabel='Actors', ylabel='Average Budgets')\n",
    "ax.title.set_size(30)\n",
    "ax.xaxis.label.set_size(20)\n",
    "ax.yaxis.label.set_size(20)\n",
    "plt.show()"
   ]
  },
  {
   "cell_type": "markdown",
   "metadata": {},
   "source": [
    "## P&L vs Actors"
   ]
  },
  {
   "cell_type": "code",
   "execution_count": null,
   "metadata": {},
   "outputs": [],
   "source": [
    "actors_top_pl=actor_analysis[[\"main_actor\",\"avg_movies_pl\",\"nr_movies\"]].copy()\n",
    "\n",
    "#only actors that starred in over 10 movies (not to be too biased over people that starred in few movies)\n",
    "actors_top_pl_more_10=actors_top_pl[actors_top_pl.nr_movies>10].copy()\n",
    "actors_top_pl_more_10.dropna(inplace=True)\n",
    "actors_top_pl_more_10.sort_values(by='avg_movies_pl',axis=0,ascending=False,inplace=True)\n",
    "\n",
    "actors_top_pl_more_10"
   ]
  },
  {
   "cell_type": "code",
   "execution_count": null,
   "metadata": {},
   "outputs": [],
   "source": [
    "plt.figure()\n",
    "\n",
    "ax = actors_top_pl_more_10.plot(kind='bar',x='main_actor',y='avg_movies_pl',colormap='Pastel1',figsize=(25,10),fontsize=14,title='Average P&L per Movies Starred',legend=False)\n",
    "ax.set(xlabel='Actors', ylabel='Average P&L')\n",
    "ax.title.set_size(30)\n",
    "ax.xaxis.label.set_size(20)\n",
    "ax.yaxis.label.set_size(20)\n",
    "plt.show()\n",
    "\n"
   ]
  },
  {
   "cell_type": "code",
   "execution_count": null,
   "metadata": {},
   "outputs": [],
   "source": [
    "actor_top_stars=actor_analysis[actor_analysis.nr_movies>10].copy()\n",
    "actor_top_stars"
   ]
  },
  {
   "cell_type": "markdown",
   "metadata": {},
   "source": [
    "## Production Companies"
   ]
  },
  {
   "cell_type": "code",
   "execution_count": null,
   "metadata": {},
   "outputs": [],
   "source": [
    "#Some very important libraries\n",
    "\n",
    "import csv\n",
    "import pandas as pd\n",
    "import numpy as np\n",
    "import matplotlib.pyplot as plt\n",
    "%matplotlib inline\n",
    "import matplotlib.dates\n",
    "import seaborn as sns"
   ]
  },
  {
   "cell_type": "code",
   "execution_count": null,
   "metadata": {},
   "outputs": [],
   "source": [
    "#Creating a list with companies names\n",
    "\n",
    "cia=list(movies[\"production_companies\"])\n",
    "all_companies=[]\n",
    "for i in range(len(cia)):\n",
    "    comp=cia[i]\n",
    "    for company in comp:\n",
    "        if company in all_companies:\n",
    "            pass\n",
    "        else:\n",
    "            all_companies.append(company)\n",
    "            \n",
    "print(all_companies)"
   ]
  }
 ],
 "metadata": {
  "kernelspec": {
   "display_name": "Python 3",
   "language": "python",
   "name": "python3"
  },
  "language_info": {
   "codemirror_mode": {
    "name": "ipython",
    "version": 3
   },
   "file_extension": ".py",
   "mimetype": "text/x-python",
   "name": "python",
   "nbconvert_exporter": "python",
   "pygments_lexer": "ipython3",
   "version": "3.6.4"
  }
 },
 "nbformat": 4,
 "nbformat_minor": 2
}
