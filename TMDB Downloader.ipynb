{
 "cells": [
  {
   "cell_type": "code",
   "execution_count": 1,
   "metadata": {},
   "outputs": [],
   "source": [
    "import csv\n",
    "import pandas as pd\n",
    "import numpy as np"
   ]
  },
  {
   "cell_type": "code",
   "execution_count": 2,
   "metadata": {},
   "outputs": [],
   "source": [
    "movies=pd.read_csv(\"./ml-dataset/movies.csv\")"
   ]
  },
  {
   "cell_type": "code",
   "execution_count": 3,
   "metadata": {},
   "outputs": [
    {
     "data": {
      "text/html": [
       "<div>\n",
       "<style scoped>\n",
       "    .dataframe tbody tr th:only-of-type {\n",
       "        vertical-align: middle;\n",
       "    }\n",
       "\n",
       "    .dataframe tbody tr th {\n",
       "        vertical-align: top;\n",
       "    }\n",
       "\n",
       "    .dataframe thead th {\n",
       "        text-align: right;\n",
       "    }\n",
       "</style>\n",
       "<table border=\"1\" class=\"dataframe\">\n",
       "  <thead>\n",
       "    <tr style=\"text-align: right;\">\n",
       "      <th></th>\n",
       "      <th>movieId</th>\n",
       "      <th>imdbId</th>\n",
       "      <th>tmdbId</th>\n",
       "    </tr>\n",
       "  </thead>\n",
       "  <tbody>\n",
       "    <tr>\n",
       "      <th>0</th>\n",
       "      <td>1</td>\n",
       "      <td>114709</td>\n",
       "      <td>862.0</td>\n",
       "    </tr>\n",
       "    <tr>\n",
       "      <th>1</th>\n",
       "      <td>2</td>\n",
       "      <td>113497</td>\n",
       "      <td>8844.0</td>\n",
       "    </tr>\n",
       "    <tr>\n",
       "      <th>2</th>\n",
       "      <td>3</td>\n",
       "      <td>113228</td>\n",
       "      <td>15602.0</td>\n",
       "    </tr>\n",
       "    <tr>\n",
       "      <th>3</th>\n",
       "      <td>4</td>\n",
       "      <td>114885</td>\n",
       "      <td>31357.0</td>\n",
       "    </tr>\n",
       "    <tr>\n",
       "      <th>4</th>\n",
       "      <td>5</td>\n",
       "      <td>113041</td>\n",
       "      <td>11862.0</td>\n",
       "    </tr>\n",
       "    <tr>\n",
       "      <th>5</th>\n",
       "      <td>6</td>\n",
       "      <td>113277</td>\n",
       "      <td>949.0</td>\n",
       "    </tr>\n",
       "    <tr>\n",
       "      <th>6</th>\n",
       "      <td>7</td>\n",
       "      <td>114319</td>\n",
       "      <td>11860.0</td>\n",
       "    </tr>\n",
       "    <tr>\n",
       "      <th>7</th>\n",
       "      <td>8</td>\n",
       "      <td>112302</td>\n",
       "      <td>45325.0</td>\n",
       "    </tr>\n",
       "    <tr>\n",
       "      <th>8</th>\n",
       "      <td>9</td>\n",
       "      <td>114576</td>\n",
       "      <td>9091.0</td>\n",
       "    </tr>\n",
       "    <tr>\n",
       "      <th>9</th>\n",
       "      <td>10</td>\n",
       "      <td>113189</td>\n",
       "      <td>710.0</td>\n",
       "    </tr>\n",
       "  </tbody>\n",
       "</table>\n",
       "</div>"
      ],
      "text/plain": [
       "   movieId  imdbId   tmdbId\n",
       "0        1  114709    862.0\n",
       "1        2  113497   8844.0\n",
       "2        3  113228  15602.0\n",
       "3        4  114885  31357.0\n",
       "4        5  113041  11862.0\n",
       "5        6  113277    949.0\n",
       "6        7  114319  11860.0\n",
       "7        8  112302  45325.0\n",
       "8        9  114576   9091.0\n",
       "9       10  113189    710.0"
      ]
     },
     "execution_count": 3,
     "metadata": {},
     "output_type": "execute_result"
    }
   ],
   "source": [
    "links=pd.read_csv(\"ml-dataset/links.csv\")\n",
    "links.head(10)"
   ]
  },
  {
   "cell_type": "code",
   "execution_count": 5,
   "metadata": {},
   "outputs": [],
   "source": [
    "ratings=pd.read_csv('ml-dataset/ratings_small.csv')"
   ]
  },
  {
   "cell_type": "code",
   "execution_count": 160,
   "metadata": {},
   "outputs": [],
   "source": [
    "last_10yr_id = pd.read_csv('mID.csv', header=None)"
   ]
  },
  {
   "cell_type": "code",
   "execution_count": 167,
   "metadata": {},
   "outputs": [],
   "source": [
    "last_10yr_id = last_10yr_id[0]"
   ]
  },
  {
   "cell_type": "code",
   "execution_count": 168,
   "metadata": {},
   "outputs": [],
   "source": [
    "tID = links[links.movieId.isin(last_10yr_id)].tmdbId"
   ]
  },
  {
   "cell_type": "code",
   "execution_count": 169,
   "metadata": {},
   "outputs": [
    {
     "data": {
      "text/plain": [
       "5985"
      ]
     },
     "execution_count": 169,
     "metadata": {},
     "output_type": "execute_result"
    }
   ],
   "source": [
    "tID.size"
   ]
  },
  {
   "cell_type": "code",
   "execution_count": 170,
   "metadata": {},
   "outputs": [],
   "source": [
    "import tmdbsimple as tmdb\n",
    "tmdb.API_KEY = 'b93b517fa262fe2fdf374829ee9e2fb5'"
   ]
  },
  {
   "cell_type": "code",
   "execution_count": 171,
   "metadata": {},
   "outputs": [],
   "source": [
    "#https://pypi.org/project/ratelimiter/"
   ]
  },
  {
   "cell_type": "code",
   "execution_count": 172,
   "metadata": {},
   "outputs": [],
   "source": [
    "from ratelimiter import RateLimiter"
   ]
  },
  {
   "cell_type": "code",
   "execution_count": null,
   "metadata": {},
   "outputs": [],
   "source": []
  },
  {
   "cell_type": "code",
   "execution_count": 185,
   "metadata": {},
   "outputs": [],
   "source": [
    "#movie = tmdb.Movies(603)\n",
    "movie = tmdb.Movies(tID.iloc[0])\n",
    "tmovies = pd.DataFrame.from_dict(movie.info(), orient='index')"
   ]
  },
  {
   "cell_type": "code",
   "execution_count": null,
   "metadata": {},
   "outputs": [
    {
     "name": "stdout",
     "output_type": "stream",
     "text": [
      "0 of 5985\n",
      "1 of 5985\n",
      "3 of 5985\n",
      "4 of 5985\n",
      "5 of 5985\n",
      "6 of 5985\n",
      "8 of 5985\n",
      "9 of 5985\n",
      "10 of 5985\n"
     ]
    },
    {
     "name": "stderr",
     "output_type": "stream",
     "text": [
      "From cffi callback <function _verify_callback at 0x00000292CECF2D08>:\n",
      "Traceback (most recent call last):\n",
      "  File \"C:\\Users\\Yonge\\Anaconda3\\lib\\site-packages\\OpenSSL\\SSL.py\", line 310, in wrapper\n",
      "    @wraps(callback)\n",
      "KeyboardInterrupt\n"
     ]
    },
    {
     "name": "stdout",
     "output_type": "stream",
     "text": [
      "13 of 5985\n",
      "14 of 5985\n",
      "15 of 5985\n",
      "16 of 5985\n",
      "17 of 5985\n",
      "18 of 5985\n",
      "19 of 5985\n"
     ]
    },
    {
     "name": "stderr",
     "output_type": "stream",
     "text": [
      "From cffi callback <function _verify_callback at 0x00000292CE0E6D90>:\n",
      "Traceback (most recent call last):\n",
      "  File \"C:\\Users\\Yonge\\Anaconda3\\lib\\site-packages\\OpenSSL\\SSL.py\", line 310, in wrapper\n",
      "    @wraps(callback)\n",
      "KeyboardInterrupt\n"
     ]
    },
    {
     "name": "stdout",
     "output_type": "stream",
     "text": [
      "21 of 5985\n",
      "22 of 5985\n",
      "23 of 5985\n",
      "24 of 5985\n",
      "25 of 5985\n",
      "26 of 5985\n",
      "27 of 5985\n",
      "28 of 5985\n",
      "29 of 5985\n",
      "30 of 5985\n",
      "31 of 5985\n",
      "32 of 5985\n",
      "33 of 5985\n",
      "34 of 5985\n",
      "35 of 5985\n",
      "36 of 5985\n",
      "37 of 5985\n",
      "38 of 5985\n",
      "39 of 5985\n",
      "40 of 5985\n",
      "41 of 5985\n",
      "42 of 5985\n",
      "43 of 5985\n",
      "44 of 5985\n",
      "45 of 5985\n",
      "46 of 5985\n",
      "47 of 5985\n",
      "48 of 5985\n",
      "49 of 5985\n",
      "50 of 5985\n",
      "51 of 5985\n",
      "52 of 5985\n",
      "54 of 5985\n",
      "55 of 5985\n",
      "56 of 5985\n",
      "57 of 5985\n",
      "58 of 5985\n",
      "59 of 5985\n",
      "60 of 5985\n",
      "61 of 5985\n",
      "62 of 5985\n",
      "63 of 5985\n",
      "65 of 5985\n",
      "66 of 5985\n",
      "67 of 5985\n",
      "69 of 5985\n"
     ]
    }
   ],
   "source": [
    "rate_limiter = RateLimiter(max_calls=4, period=1)\n",
    "\n",
    "checklist = []\n",
    "count=0\n",
    "length = len(tID)\n",
    "for id in tID.iloc[1:]:\n",
    "    try:\n",
    "        with rate_limiter:\n",
    "            movie = tmdb.Movies(id)\n",
    "            tmovies = pd.concat([tmovies, pd.DataFrame.from_dict(movie.info(), orient='index')], axis=1 )\n",
    "            print(count, 'of', length)\n",
    "            count += 1\n",
    "    except:\n",
    "        checklist.append(id)\n",
    "        count += 1"
   ]
  },
  {
   "cell_type": "code",
   "execution_count": null,
   "metadata": {},
   "outputs": [],
   "source": []
  }
 ],
 "metadata": {
  "kernelspec": {
   "display_name": "Python 3",
   "language": "python",
   "name": "python3"
  },
  "language_info": {
   "codemirror_mode": {
    "name": "ipython",
    "version": 3
   },
   "file_extension": ".py",
   "mimetype": "text/x-python",
   "name": "python",
   "nbconvert_exporter": "python",
   "pygments_lexer": "ipython3",
   "version": "3.6.4"
  }
 },
 "nbformat": 4,
 "nbformat_minor": 2
}
